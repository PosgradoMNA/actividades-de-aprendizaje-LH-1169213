{
  "nbformat": 4,
  "nbformat_minor": 0,
  "metadata": {
    "colab": {
      "provenance": [],
      "authorship_tag": "ABX9TyP7/BeIpSn87aumW2sUc63f",
      "include_colab_link": true
    },
    "kernelspec": {
      "name": "python3",
      "display_name": "Python 3"
    },
    "language_info": {
      "name": "python"
    }
  },
  "cells": [
    {
      "cell_type": "markdown",
      "metadata": {
        "id": "view-in-github",
        "colab_type": "text"
      },
      "source": [
        "<a href=\"https://colab.research.google.com/github/PosgradoMNA/actividades-de-aprendizaje-LH-1169213/blob/main/IBM_mod4_DataAnalysisIBM_A01169213.ipynb\" target=\"_parent\"><img src=\"https://colab.research.google.com/assets/colab-badge.svg\" alt=\"Open In Colab\"/></a>"
      ]
    },
    {
      "cell_type": "markdown",
      "source": [],
      "metadata": {
        "id": "K3ogyiLWJhM0"
      }
    },
    {
      "cell_type": "markdown",
      "source": [
        "Un modelo es una ecuación matemática que sirve para estimar información. Es importante que la data sea relevante para que el análisis sea significativo.\n",
        "\n",
        "Los modelos que aprenderemos son:\n",
        "\n",
        "*   Simple Linear Regression\n",
        "*   Multiple Linear Regression\n",
        "*   Polynomial Regression\n",
        "\n"
      ],
      "metadata": {
        "id": "88KiFSvrJL_S"
      }
    }
  ]
}