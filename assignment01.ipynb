{
  "nbformat": 4,
  "nbformat_minor": 0,
  "metadata": {
    "colab": {
      "name": "assignment01.ipynb",
      "provenance": [],
      "include_colab_link": true
    },
    "kernelspec": {
      "name": "python3",
      "display_name": "Python 3"
    },
    "language_info": {
      "name": "python"
    }
  },
  "cells": [
    {
      "cell_type": "markdown",
      "metadata": {
        "id": "view-in-github",
        "colab_type": "text"
      },
      "source": [
        "<a href=\"https://colab.research.google.com/github/PosgradoMNA/actividades-de-aprendizaje-LH-1169213/blob/main/assignment01.ipynb\" target=\"_parent\"><img src=\"https://colab.research.google.com/assets/colab-badge.svg\" alt=\"Open In Colab\"/></a>"
      ]
    },
    {
      "cell_type": "code",
      "execution_count": null,
      "metadata": {
        "id": "LzUSMM79NR9P",
        "outputId": "0e6cb421-1096-426a-b31a-f61d059def81",
        "colab": {
          "base_uri": "https://localhost:8080/"
        }
      },
      "outputs": [
        {
          "output_type": "stream",
          "name": "stdout",
          "text": [
            "assignment01 for GitJobish03 and edited in git, and 18\n"
          ]
        }
      ],
      "source": [
        "print('assignment01 for GitJobish03 and edited in git, and 18')"
      ]
    },
    {
      "cell_type": "code",
      "source": [
        "print ('Laura Hernández A01169213')\n",
        "print ('Module 1')\n",
        "print ('Exercise 1 - Your first code')"
      ],
      "metadata": {
        "colab": {
          "base_uri": "https://localhost:8080/"
        },
        "id": "IRNQiOIj0pjS",
        "outputId": "798b68db-7a3c-46cd-d821-6157c55c4865"
      },
      "execution_count": 6,
      "outputs": [
        {
          "output_type": "stream",
          "name": "stdout",
          "text": [
            "Laura Hernández A01169213\n",
            "Module 1\n",
            "Exercise 1 - Your first code\n"
          ]
        }
      ]
    },
    {
      "cell_type": "code",
      "source": [
        "#print Hello Python 101\n",
        "print('Hello Python 101')"
      ],
      "metadata": {
        "id": "mxM_WppZPMFx",
        "colab": {
          "base_uri": "https://localhost:8080/"
        },
        "outputId": "c5e69e18-c453-44c3-e7eb-16ebd413e5d7"
      },
      "execution_count": 2,
      "outputs": [
        {
          "output_type": "stream",
          "name": "stdout",
          "text": [
            "Hello Python 101\n"
          ]
        }
      ]
    },
    {
      "cell_type": "code",
      "source": [
        "#Question 1\n",
        "print('Hello\\nWorld!')"
      ],
      "metadata": {
        "colab": {
          "base_uri": "https://localhost:8080/"
        },
        "id": "-wGcj9m3un2f",
        "outputId": "45c989f5-068b-492d-be29-fe62aebf853b"
      },
      "execution_count": 3,
      "outputs": [
        {
          "output_type": "stream",
          "name": "stdout",
          "text": [
            "Hello\n",
            "World!\n"
          ]
        }
      ]
    },
    {
      "cell_type": "code",
      "source": [
        "#Question 2\n",
        "# print('Hello World!')"
      ],
      "metadata": {
        "id": "kBUMP-4yu4K_"
      },
      "execution_count": 4,
      "outputs": []
    },
    {
      "cell_type": "code",
      "source": [
        "print('Exercise 2 - Types')"
      ],
      "metadata": {
        "colab": {
          "base_uri": "https://localhost:8080/"
        },
        "id": "JfJ-zFwuvroY",
        "outputId": "d62ae059-df33-4444-9fef-b5c01a65d7ae"
      },
      "execution_count": 7,
      "outputs": [
        {
          "output_type": "stream",
          "name": "stdout",
          "text": [
            "Exercise 2 - Types\n"
          ]
        }
      ]
    },
    {
      "cell_type": "code",
      "source": [
        "#Question 1\n",
        "int(1)"
      ],
      "metadata": {
        "colab": {
          "base_uri": "https://localhost:8080/"
        },
        "id": "t5FyCaPD1NCW",
        "outputId": "966b638e-7c09-4041-bf69-5d7a4d088c08"
      },
      "execution_count": 9,
      "outputs": [
        {
          "output_type": "execute_result",
          "data": {
            "text/plain": [
              "1"
            ]
          },
          "metadata": {},
          "execution_count": 9
        }
      ]
    },
    {
      "cell_type": "code",
      "source": [
        "#Question 2\n",
        "bool(1)"
      ],
      "metadata": {
        "colab": {
          "base_uri": "https://localhost:8080/"
        },
        "id": "Od_PBP3c1Zqi",
        "outputId": "6dd3cef7-1f59-48e8-f69e-e437322ea19e"
      },
      "execution_count": 10,
      "outputs": [
        {
          "output_type": "execute_result",
          "data": {
            "text/plain": [
              "True"
            ]
          },
          "metadata": {},
          "execution_count": 10
        }
      ]
    },
    {
      "cell_type": "code",
      "source": [
        "#Variables"
      ],
      "metadata": {
        "id": "ZU6HcYCo8P65"
      },
      "execution_count": 16,
      "outputs": []
    },
    {
      "cell_type": "code",
      "source": [
        "#Storing value\n",
        "my_variable=1"
      ],
      "metadata": {
        "id": "QFR6yZ9h7Mxe"
      },
      "execution_count": 31,
      "outputs": []
    },
    {
      "cell_type": "code",
      "source": [
        "#Consulting value\n",
        "my_variable"
      ],
      "metadata": {
        "colab": {
          "base_uri": "https://localhost:8080/"
        },
        "id": "pP4fW87T7RGF",
        "outputId": "614211aa-1763-437b-a430-32b73e4318fe"
      },
      "execution_count": 32,
      "outputs": [
        {
          "output_type": "execute_result",
          "data": {
            "text/plain": [
              "1"
            ]
          },
          "metadata": {},
          "execution_count": 32
        }
      ]
    },
    {
      "cell_type": "code",
      "source": [
        "#Storing values and creating expressions\n",
        "x=160\n",
        "y=x/60\n",
        "z=x//60"
      ],
      "metadata": {
        "id": "zIoGPx7s80e6"
      },
      "execution_count": 33,
      "outputs": []
    },
    {
      "cell_type": "code",
      "source": [
        "#Results"
      ],
      "metadata": {
        "id": "2975R8VF-qoX"
      },
      "execution_count": 34,
      "outputs": []
    },
    {
      "cell_type": "code",
      "source": [
        "x"
      ],
      "metadata": {
        "colab": {
          "base_uri": "https://localhost:8080/"
        },
        "id": "LZuPWvcv9AIe",
        "outputId": "dcf1f4e5-4fb8-4c06-9d9a-83e5267e4bfc"
      },
      "execution_count": 22,
      "outputs": [
        {
          "output_type": "execute_result",
          "data": {
            "text/plain": [
              "160"
            ]
          },
          "metadata": {},
          "execution_count": 22
        }
      ]
    },
    {
      "cell_type": "code",
      "source": [
        "y"
      ],
      "metadata": {
        "colab": {
          "base_uri": "https://localhost:8080/"
        },
        "id": "-73dBe3u88Ay",
        "outputId": "065bf92b-3f80-4cbd-cbed-fbb761529fa3"
      },
      "execution_count": 21,
      "outputs": [
        {
          "output_type": "execute_result",
          "data": {
            "text/plain": [
              "2.6666666666666665"
            ]
          },
          "metadata": {},
          "execution_count": 21
        }
      ]
    },
    {
      "cell_type": "code",
      "source": [
        "z"
      ],
      "metadata": {
        "id": "KcYQMcPZ9RpB",
        "outputId": "09731c4f-bd53-4425-c2a9-634599f6cc3d",
        "colab": {
          "base_uri": "https://localhost:8080/"
        }
      },
      "execution_count": 24,
      "outputs": [
        {
          "output_type": "execute_result",
          "data": {
            "text/plain": [
              "2"
            ]
          },
          "metadata": {},
          "execution_count": 24
        }
      ]
    },
    {
      "cell_type": "code",
      "source": [
        "#Storing values where minutes are equal to 142\n",
        "total_min=43+42+57\n",
        "total_hr=total_min/60"
      ],
      "metadata": {
        "id": "gdZQ8oSh8fiH"
      },
      "execution_count": 35,
      "outputs": []
    },
    {
      "cell_type": "code",
      "source": [
        "total_min"
      ],
      "metadata": {
        "colab": {
          "base_uri": "https://localhost:8080/"
        },
        "id": "3beYOUfQ8ool",
        "outputId": "8aca0725-f298-4d83-9bf3-4acbab1244bd"
      },
      "execution_count": 18,
      "outputs": [
        {
          "output_type": "execute_result",
          "data": {
            "text/plain": [
              "142"
            ]
          },
          "metadata": {},
          "execution_count": 18
        }
      ]
    },
    {
      "cell_type": "code",
      "source": [
        "total_hr"
      ],
      "metadata": {
        "colab": {
          "base_uri": "https://localhost:8080/"
        },
        "id": "tXq9n4z28q5N",
        "outputId": "ffeca82f-c184-4a14-f5dc-2166e35fa249"
      },
      "execution_count": 19,
      "outputs": [
        {
          "output_type": "execute_result",
          "data": {
            "text/plain": [
              "2.3666666666666667"
            ]
          },
          "metadata": {},
          "execution_count": 19
        }
      ]
    },
    {
      "cell_type": "code",
      "source": [
        "#Changing the value of minutes from 142 to 60\n",
        "#Note: it is important to state the operation of hours again\n",
        "total_min=30+30\n",
        "total_hr=total_min/60"
      ],
      "metadata": {
        "id": "RzHSwiI9-CH0"
      },
      "execution_count": 36,
      "outputs": []
    },
    {
      "cell_type": "code",
      "source": [
        "total_min"
      ],
      "metadata": {
        "id": "SHra_bF--MAJ",
        "outputId": "8f5ab409-0555-45e8-9f77-232eff805a9e",
        "colab": {
          "base_uri": "https://localhost:8080/"
        }
      },
      "execution_count": 27,
      "outputs": [
        {
          "output_type": "execute_result",
          "data": {
            "text/plain": [
              "60"
            ]
          },
          "metadata": {},
          "execution_count": 27
        }
      ]
    },
    {
      "cell_type": "code",
      "source": [
        "total_hr"
      ],
      "metadata": {
        "id": "lTvPrI4Z-QrB",
        "outputId": "1aa2737d-4bfe-47ac-c9cb-ca2f0d6e2a5b",
        "colab": {
          "base_uri": "https://localhost:8080/"
        }
      },
      "execution_count": 30,
      "outputs": [
        {
          "output_type": "execute_result",
          "data": {
            "text/plain": [
              "1.0"
            ]
          },
          "metadata": {},
          "execution_count": 30
        }
      ]
    }
  ]
}